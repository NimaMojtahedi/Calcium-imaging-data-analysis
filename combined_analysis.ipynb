{
 "cells": [
  {
   "cell_type": "code",
   "execution_count": 1,
   "metadata": {},
   "outputs": [],
   "source": [
    "%config Completer.use_jedi = False\n",
    "\n",
    "import numpy as np\n",
    "import matplotlib.pyplot as plt\n",
    "from joblib import Parallel, delayed, dump, load\n",
    "import time\n",
    "import pandas as pd\n",
    "import seaborn as sns\n",
    "%matplotlib inline\n",
    "from sklearn.decomposition import NMF\n",
    "from mne.viz import plot_connectivity_circle\n",
    "from sklearn.decomposition import PCA\n",
    "\n",
    "\n",
    "#import torch\n",
    "from hummingbird.ml import convert, load #https://github.com/microsoft/hummingbird\n",
    "# hummingbird is usefull when you have trained model and you need to speed up prediction step\n",
    "# it doesn't have nmf\n",
    "\n",
    "from utils import load_file\n",
    "from utils import DataResize\n",
    "from utils import DeltaF\n",
    "from utils import NMFCV\n",
    "from utils import video_player\n",
    "from utils import blob_labeling, image_threshold\n",
    "from utils import plot_nmf_ROIs"
   ]
  },
  {
   "cell_type": "code",
   "execution_count": 7,
   "metadata": {},
   "outputs": [],
   "source": [
    "# reading ROIs wt/scn2a and concatinate them\n",
    "wt = pd.read_csv('C:/Users/admin/Documents/Python Scripts/P6 Project/Calcium-imaging-data-analysis/results/ROIs/wt_210126_P5_scn2a_minus_run345_ROIsTable.csv')\n",
    "scn2a = pd.read_csv('C:/Users/admin/Documents/Python Scripts/P6 Project/Calcium-imaging-data-analysis/results/ROIs/scn2a_210127_P6_scn2a_triplet_run456_ROIsTable.csv')\n",
    "\n",
    "# add type column\n",
    "wt['group'] = 'WT'\n",
    "scn2a['group'] = 'SCN2A'\n",
    "\n",
    "# normalize area from pixel to mm2\n",
    "# 1mm = 17 pixels --> 1mm2 = 17*17 p2\n",
    "wt['area_norm'] = wt['area'] / 119\n",
    "scn2a['area_norm'] = scn2a['area'] / 119"
   ]
  },
  {
   "cell_type": "code",
   "execution_count": 8,
   "metadata": {},
   "outputs": [
    {
     "data": {
      "text/html": [
       "<div>\n",
       "<style scoped>\n",
       "    .dataframe tbody tr th:only-of-type {\n",
       "        vertical-align: middle;\n",
       "    }\n",
       "\n",
       "    .dataframe tbody tr th {\n",
       "        vertical-align: top;\n",
       "    }\n",
       "\n",
       "    .dataframe thead th {\n",
       "        text-align: right;\n",
       "    }\n",
       "</style>\n",
       "<table border=\"1\" class=\"dataframe\">\n",
       "  <thead>\n",
       "    <tr style=\"text-align: right;\">\n",
       "      <th></th>\n",
       "      <th>center-y(rows)</th>\n",
       "      <th>center-x(cols)</th>\n",
       "      <th>orientation</th>\n",
       "      <th>area</th>\n",
       "      <th>min_row</th>\n",
       "      <th>min_col</th>\n",
       "      <th>max_row</th>\n",
       "      <th>max_col</th>\n",
       "      <th>coords</th>\n",
       "      <th>component_nr</th>\n",
       "      <th>mouse_id</th>\n",
       "      <th>group</th>\n",
       "      <th>area_norm</th>\n",
       "    </tr>\n",
       "  </thead>\n",
       "  <tbody>\n",
       "    <tr>\n",
       "      <th>0</th>\n",
       "      <td>63.059952</td>\n",
       "      <td>45.964029</td>\n",
       "      <td>0.460236</td>\n",
       "      <td>417</td>\n",
       "      <td>48</td>\n",
       "      <td>34</td>\n",
       "      <td>84</td>\n",
       "      <td>57</td>\n",
       "      <td>[[48 39]\\n [48 40]\\n [48 41]\\n [48 42]\\n [48 4...</td>\n",
       "      <td>0</td>\n",
       "      <td>210126_P5_scn2a_minus</td>\n",
       "      <td>WT</td>\n",
       "      <td>3.504202</td>\n",
       "    </tr>\n",
       "    <tr>\n",
       "      <th>1</th>\n",
       "      <td>64.247253</td>\n",
       "      <td>75.890110</td>\n",
       "      <td>-0.254846</td>\n",
       "      <td>364</td>\n",
       "      <td>49</td>\n",
       "      <td>68</td>\n",
       "      <td>85</td>\n",
       "      <td>88</td>\n",
       "      <td>[[49 80]\\n [50 76]\\n [50 77]\\n [50 78]\\n [50 7...</td>\n",
       "      <td>0</td>\n",
       "      <td>210126_P5_scn2a_minus</td>\n",
       "      <td>WT</td>\n",
       "      <td>3.058824</td>\n",
       "    </tr>\n",
       "    <tr>\n",
       "      <th>2</th>\n",
       "      <td>66.500000</td>\n",
       "      <td>93.500000</td>\n",
       "      <td>-0.785398</td>\n",
       "      <td>18</td>\n",
       "      <td>64</td>\n",
       "      <td>91</td>\n",
       "      <td>70</td>\n",
       "      <td>97</td>\n",
       "      <td>[[64 93]\\n [65 92]\\n [65 93]\\n [65 94]\\n [66 9...</td>\n",
       "      <td>0</td>\n",
       "      <td>210126_P5_scn2a_minus</td>\n",
       "      <td>WT</td>\n",
       "      <td>0.151261</td>\n",
       "    </tr>\n",
       "  </tbody>\n",
       "</table>\n",
       "</div>"
      ],
      "text/plain": [
       "   center-y(rows)  center-x(cols)  orientation  area  min_row  min_col  \\\n",
       "0       63.059952       45.964029     0.460236   417       48       34   \n",
       "1       64.247253       75.890110    -0.254846   364       49       68   \n",
       "2       66.500000       93.500000    -0.785398    18       64       91   \n",
       "\n",
       "   max_row  max_col                                             coords  \\\n",
       "0       84       57  [[48 39]\\n [48 40]\\n [48 41]\\n [48 42]\\n [48 4...   \n",
       "1       85       88  [[49 80]\\n [50 76]\\n [50 77]\\n [50 78]\\n [50 7...   \n",
       "2       70       97  [[64 93]\\n [65 92]\\n [65 93]\\n [65 94]\\n [66 9...   \n",
       "\n",
       "   component_nr               mouse_id group  area_norm  \n",
       "0             0  210126_P5_scn2a_minus    WT   3.504202  \n",
       "1             0  210126_P5_scn2a_minus    WT   3.058824  \n",
       "2             0  210126_P5_scn2a_minus    WT   0.151261  "
      ]
     },
     "execution_count": 8,
     "metadata": {},
     "output_type": "execute_result"
    }
   ],
   "source": [
    "# Cat them\n",
    "df = wt.append(scn2a, ignore_index=True)\n",
    "df.head(3)"
   ]
  },
  {
   "cell_type": "code",
   "execution_count": 40,
   "metadata": {},
   "outputs": [
    {
     "name": "stderr",
     "output_type": "stream",
     "text": [
      "c:\\users\\admin\\anaconda3\\envs\\pytorch\\lib\\site-packages\\seaborn\\distributions.py:2163: UserWarning: `displot` is a figure-level function and does not accept the ax= paramter. You may wish to try ecdfplot.\n",
      "  warnings.warn(msg, UserWarning)\n"
     ]
    },
    {
     "data": {
      "image/png": "[encoded data removed]",
      "text/plain": [
       "<Figure size 429.875x360 with 1 Axes>"
      ]
     },
     "metadata": {
      "needs_background": "light"
     },
     "output_type": "display_data"
    }
   ],
   "source": [
    "# checking ecdf for area (density: normalize such that the total area of the histogram equals 1)\n",
    "\n",
    "g = sns.displot(x = 'area_norm', data=df, hue = 'group', \n",
    "             kind=\"ecdf\", ax = ax)\n",
    "\n",
    "g.ax.set_ylim([0, 1])\n",
    "g.ax.set_xlim([0, 10])\n",
    "g.ax.set_xlabel(\"Area($mm^{2}$)\")\n",
    "g.ax.set_title(\"Cumulative density plot of normalized areas\");\n",
    "\n",
    "# saving figure\n",
    "g.savefig(fname = \"./figures/combined_210127_P6_scn2a_triplet_run456_210126_P5_scn2a_minus_run345_normalized_ROI_areaSize.pdf\", \n",
    "          dpi = 600, format = \"pdf\")"
   ]
  }
 ],
 "metadata": {
  "kernelspec": {
   "display_name": "Python 3",
   "language": "python",
   "name": "python3"
  },
  "language_info": {
   "codemirror_mode": {
    "name": "ipython",
    "version": 3
   },
   "file_extension": ".py",
   "mimetype": "text/x-python",
   "name": "python",
   "nbconvert_exporter": "python",
   "pygments_lexer": "ipython3",
   "version": "3.6.10"
  }
 },
 "nbformat": 4,
 "nbformat_minor": 4
}
