{
 "cells": [
  {
   "cell_type": "code",
   "execution_count": 1,
   "metadata": {
    "scrolled": true
   },
   "outputs": [],
   "source": [
    "%config Completer.use_jedi = False\n",
    "\n",
    "import numpy as np\n",
    "import matplotlib.pyplot as plt\n",
    "\n",
    "#import torch\n",
    "from hummingbird.ml import convert, load #https://github.com/microsoft/hummingbird\n",
    "# hummingbird is usefull when you have trained model and you need to speed up prediction step\n",
    "# it doesn't have nmf\n",
    "\n",
    "from utils import load_file\n",
    "from utils import DataResize\n",
    "from utils import DeltaF"
   ]
  },
  {
   "cell_type": "markdown",
   "metadata": {},
   "source": [
    "### User inputs"
   ]
  },
  {
   "cell_type": "code",
   "execution_count": 2,
   "metadata": {},
   "outputs": [],
   "source": [
    "# data address\n",
    "h5_add = 'I:/P6 Project/Analyses/Triple mutation/210127_P6_scn2a_triplet/h5/run3_LED17mA-1h56min small obj.h5'"
   ]
  },
  {
   "cell_type": "markdown",
   "metadata": {},
   "source": [
    "### Data loading"
   ]
  },
  {
   "cell_type": "code",
   "execution_count": 3,
   "metadata": {
    "scrolled": true
   },
   "outputs": [
    {
     "name": "stderr",
     "output_type": "stream",
     "text": [
      "C:\\Users\\admin\\Documents\\Python Scripts\\P6 Project\\Calcium-imaging-data-analysis\\utils.py:94: H5pyDeprecationWarning: The default file mode will change to 'r' (read-only) in h5py 3.0. To suppress this warning, pass the mode you need to h5py.File(), or set the global default h5.get_config().default_file_mode, or set the environment variable H5PY_DEFAULT_READONLY=1. Available modes are: 'r', 'r+', 'w', 'w-'/'x', 'a'. See the docs for details.\n",
      "  file = h5.File(add)\n"
     ]
    },
    {
     "name": "stdout",
     "output_type": "stream",
     "text": [
      "selected file size: (48000, 256, 256)\n"
     ]
    }
   ],
   "source": [
    "# load data\n",
    "data = load_file(add=h5_add, key_name = 'GroupHierarchy.Groups.Datasets')"
   ]
  },
  {
   "cell_type": "markdown",
   "metadata": {},
   "source": [
    "### Preprocessing"
   ]
  },
  {
   "cell_type": "code",
   "execution_count": 4,
   "metadata": {},
   "outputs": [
    {
     "name": "stdout",
     "output_type": "stream",
     "text": [
      "new data size: (48000, 128, 128)\n"
     ]
    }
   ],
   "source": [
    "# resizing data \n",
    "data_resized = DataResize(data=data, dim=(128,128)).transform()\n",
    "print(f'new data size: {data_resized.shape}')"
   ]
  },
  {
   "cell_type": "code",
   "execution_count": null,
   "metadata": {},
   "outputs": [],
   "source": [
    "# feature selection\n"
   ]
  },
  {
   "cell_type": "code",
   "execution_count": 5,
   "metadata": {},
   "outputs": [
    {
     "name": "stderr",
     "output_type": "stream",
     "text": [
      "100%|████████████████████████████████████| 16384/16384 [04:53<00:00, 55.91it/s]\n"
     ]
    }
   ],
   "source": [
    "# claculate detalf/f0\n",
    "n, p1, p2 = data_resized.shape\n",
    "data_deltaf = DeltaF(data=data_resized.reshape(n, p1*p2), prct = 20).run_on_matrix()"
   ]
  },
  {
   "cell_type": "code",
   "execution_count": 10,
   "metadata": {},
   "outputs": [],
   "source": []
  },
  {
   "cell_type": "code",
   "execution_count": null,
   "metadata": {},
   "outputs": [],
   "source": []
  }
 ],
 "metadata": {
  "kernelspec": {
   "display_name": "Python 3",
   "language": "python",
   "name": "python3"
  },
  "language_info": {
   "codemirror_mode": {
    "name": "ipython",
    "version": 3
   },
   "file_extension": ".py",
   "mimetype": "text/x-python",
   "name": "python",
   "nbconvert_exporter": "python",
   "pygments_lexer": "ipython3",
   "version": "3.6.10"
  }
 },
 "nbformat": 4,
 "nbformat_minor": 4
}
